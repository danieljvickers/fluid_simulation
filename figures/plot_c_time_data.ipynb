{
 "cells": [
  {
   "cell_type": "markdown",
   "metadata": {},
   "source": [
    "Here we have some code for reaching in the data produced by our main functinos. It loads in the benchmark data, as well as resultant values for the x velocity (U), y velocity (V), and the pressure (P)."
   ]
  },
  {
   "cell_type": "code",
   "execution_count": null,
   "metadata": {},
   "outputs": [],
   "source": [
    "import matplotlib.pyplot as plt\n",
    "import numpy as np"
   ]
  },
  {
   "cell_type": "markdown",
   "metadata": {},
   "source": [
    "Here, we can plot the benchmarks loaded in at the top of the file."
   ]
  },
  {
   "cell_type": "code",
   "execution_count": null,
   "metadata": {},
   "outputs": [],
   "source": [
    "timing_data = np.fromfile('../fluid_cpp/cmake-build-release/ThreadedBenchmarks.float.dat', dtype=np.dtype('float32'))\n",
    "\n",
    "# plot the data\n",
    "plt.figure(figsize=(10, 10), dpi=250)\n",
    "plt.hist(timing_data, bins=int(np.sqrt(len(timing_data))))\n",
    "plt.xlabel('time (ms)', fontsize=18)\n",
    "plt.ylabel('count', fontsize=18)\n",
    "average = np.average(timing_data)\n",
    "plt.title('Avg. Completion in {0:.2f} ms'.format(average), fontsize=18)\n",
    "\n",
    "plt.savefig('threaded_float_benchmarks.png')"
   ]
  },
  {
   "cell_type": "code",
   "execution_count": null,
   "metadata": {},
   "outputs": [],
   "source": [
    "timing_data = np.fromfile('../fluid_cpp/cmake-build-release/CudaBenchmarks.float.dat', dtype=np.dtype('float32'))\n",
    "timing_data = timing_data / 1000. /60.\n",
    "\n",
    "# plot the data\n",
    "plt.figure(figsize=(10, 10), dpi=250)\n",
    "plt.hist(timing_data, bins=int(np.sqrt(len(timing_data))))\n",
    "plt.xlabel('time (min)', fontsize=18)\n",
    "plt.ylabel('count', fontsize=18)\n",
    "average = np.average(timing_data)\n",
    "plt.title('Avg. Completion in {0:.2f} min'.format(average), fontsize=18)\n",
    "\n",
    "plt.savefig('cuda_1000x_float_benchmarks.png')"
   ]
  },
  {
   "cell_type": "markdown",
   "metadata": {},
   "source": [
    "Finally, we add the quiver plot of the simulation results."
   ]
  },
  {
   "cell_type": "code",
   "execution_count": null,
   "metadata": {},
   "outputs": [],
   "source": [
    "u_data = np.fromfile('../fluid_cpp/cmake-build-release/CppUValues.float.dat', dtype=np.dtype('float32'))\n",
    "v_data = np.fromfile('../fluid_cpp/cmake-build-release/CppVValues.float.dat', dtype=np.dtype('float32'))\n",
    "p_data = np.fromfile('../fluid_cpp/cmake-build-release/CppPValues.float.dat', dtype=np.dtype('float32'))\n",
    "\n",
    "num_elements = 41\n",
    "domain_size = 1.0\n",
    "element_length = domain_size / (num_elements - 1)\n",
    "x = np.linspace(0., domain_size, num_elements)\n",
    "y = np.linspace(0., domain_size, num_elements)\n",
    "X, Y = np.meshgrid(x, y)\n",
    "u = np.zeros_like(X)\n",
    "v = np.zeros_like(X)\n",
    "p = np.zeros_like(X)\n",
    "\n",
    "for i in range(num_elements):\n",
    "    for j in range(num_elements):\n",
    "        index = j * num_elements + i\n",
    "\n",
    "        u[i, j] = u_data[index]\n",
    "        v[i, j] = v_data[index]\n",
    "        p[i, j] = p_data[index]\n",
    "\n",
    "plt.figure()\n",
    "plt.contourf(X, Y, p, cmap='coolwarm')\n",
    "cbar = plt.colorbar()\n",
    "cbar.set_label('Pressure', rotation=270)\n",
    "\n",
    "plt.quiver(X[::2], Y[::2], u[::2], v[::2], color='black')\n",
    "plt.xlim([0, domain_size])\n",
    "plt.ylim([0, domain_size])\n",
    "plt.show()"
   ]
  }
 ],
 "metadata": {
  "kernelspec": {
   "display_name": "Python 3",
   "language": "python",
   "name": "python3"
  },
  "language_info": {
   "codemirror_mode": {
    "name": "ipython",
    "version": 3
   },
   "file_extension": ".py",
   "mimetype": "text/x-python",
   "name": "python",
   "nbconvert_exporter": "python",
   "pygments_lexer": "ipython3",
   "version": "3.12.3"
  }
 },
 "nbformat": 4,
 "nbformat_minor": 2
}
